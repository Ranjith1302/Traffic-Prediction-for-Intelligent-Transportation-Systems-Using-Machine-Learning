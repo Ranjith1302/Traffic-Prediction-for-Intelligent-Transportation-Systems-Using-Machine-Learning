{
 "cells": [
  {
   "cell_type": "code",
   "execution_count": 1,
   "metadata": {
    "id": "KXKaAKLrVAAW"
   },
   "outputs": [],
   "source": [
    "import numpy as np\n",
    "import pandas as pd\n",
    "from sklearn.model_selection import train_test_split, GridSearchCV, cross_val_score\n",
    "from sklearn.preprocessing import StandardScaler\n",
    "from sklearn.linear_model import LinearRegression, Lasso, Ridge\n",
    "from sklearn.tree import DecisionTreeRegressor\n",
    "from sklearn.ensemble import RandomForestRegressor\n",
    "from sklearn.svm import SVR\n",
    "from xgboost import XGBRegressor\n",
    "from sklearn.metrics import mean_absolute_error, mean_squared_error\n",
    "import matplotlib.pyplot as plt\n",
    "import warnings\n",
    "warnings.filterwarnings(\"ignore\")"
   ]
  },
  {
   "cell_type": "code",
   "execution_count": 2,
   "metadata": {
    "id": "TrHO9kzwYB15"
   },
   "outputs": [],
   "source": [
    "dataset=pd.read_csv(\"Dataset.csv\")"
   ]
  },
  {
   "cell_type": "code",
   "execution_count": 3,
   "metadata": {
    "colab": {
     "base_uri": "https://localhost:8080/",
     "height": 206
    },
    "id": "ODc54W0fYOap",
    "outputId": "eacbb7dd-a3aa-4b49-f8c3-dc3da91f8d16"
   },
   "outputs": [
    {
     "data": {
      "text/html": [
       "<div>\n",
       "<style scoped>\n",
       "    .dataframe tbody tr th:only-of-type {\n",
       "        vertical-align: middle;\n",
       "    }\n",
       "\n",
       "    .dataframe tbody tr th {\n",
       "        vertical-align: top;\n",
       "    }\n",
       "\n",
       "    .dataframe thead th {\n",
       "        text-align: right;\n",
       "    }\n",
       "</style>\n",
       "<table border=\"1\" class=\"dataframe\">\n",
       "  <thead>\n",
       "    <tr style=\"text-align: right;\">\n",
       "      <th></th>\n",
       "      <th>Day</th>\n",
       "      <th>Date</th>\n",
       "      <th>CodedDay</th>\n",
       "      <th>Zone</th>\n",
       "      <th>Weather</th>\n",
       "      <th>Temperature</th>\n",
       "      <th>Traffic</th>\n",
       "    </tr>\n",
       "  </thead>\n",
       "  <tbody>\n",
       "    <tr>\n",
       "      <th>0</th>\n",
       "      <td>Wednesday</td>\n",
       "      <td>01-06-18</td>\n",
       "      <td>3</td>\n",
       "      <td>2</td>\n",
       "      <td>35</td>\n",
       "      <td>17</td>\n",
       "      <td>2</td>\n",
       "    </tr>\n",
       "    <tr>\n",
       "      <th>1</th>\n",
       "      <td>Wednesday</td>\n",
       "      <td>01-06-18</td>\n",
       "      <td>3</td>\n",
       "      <td>3</td>\n",
       "      <td>36</td>\n",
       "      <td>16</td>\n",
       "      <td>3</td>\n",
       "    </tr>\n",
       "    <tr>\n",
       "      <th>2</th>\n",
       "      <td>Wednesday</td>\n",
       "      <td>01-06-18</td>\n",
       "      <td>3</td>\n",
       "      <td>4</td>\n",
       "      <td>27</td>\n",
       "      <td>25</td>\n",
       "      <td>5</td>\n",
       "    </tr>\n",
       "    <tr>\n",
       "      <th>3</th>\n",
       "      <td>Wednesday</td>\n",
       "      <td>01-06-18</td>\n",
       "      <td>3</td>\n",
       "      <td>5</td>\n",
       "      <td>23</td>\n",
       "      <td>23</td>\n",
       "      <td>3</td>\n",
       "    </tr>\n",
       "    <tr>\n",
       "      <th>4</th>\n",
       "      <td>Wednesday</td>\n",
       "      <td>01-06-18</td>\n",
       "      <td>3</td>\n",
       "      <td>6</td>\n",
       "      <td>18</td>\n",
       "      <td>42</td>\n",
       "      <td>2</td>\n",
       "    </tr>\n",
       "  </tbody>\n",
       "</table>\n",
       "</div>"
      ],
      "text/plain": [
       "         Day      Date  CodedDay  Zone  Weather  Temperature  Traffic\n",
       "0  Wednesday  01-06-18         3     2       35           17        2\n",
       "1  Wednesday  01-06-18         3     3       36           16        3\n",
       "2  Wednesday  01-06-18         3     4       27           25        5\n",
       "3  Wednesday  01-06-18         3     5       23           23        3\n",
       "4  Wednesday  01-06-18         3     6       18           42        2"
      ]
     },
     "execution_count": 3,
     "metadata": {},
     "output_type": "execute_result"
    }
   ],
   "source": [
    "dataset.head()"
   ]
  },
  {
   "cell_type": "code",
   "execution_count": 4,
   "metadata": {
    "id": "M0QOfekoYV8p"
   },
   "outputs": [],
   "source": [
    "from sklearn.preprocessing import LabelEncoder \n",
    "le = LabelEncoder() "
   ]
  },
  {
   "cell_type": "code",
   "execution_count": 5,
   "metadata": {
    "id": "hpp-tBxSYaTh"
   },
   "outputs": [],
   "source": [
    "dataset['Date']= le.fit_transform(dataset['Date'])"
   ]
  },
  {
   "cell_type": "code",
   "execution_count": 6,
   "metadata": {
    "colab": {
     "base_uri": "https://localhost:8080/",
     "height": 363
    },
    "id": "jVYkGWvyYkfZ",
    "outputId": "c4cca062-9c56-48d1-bf9f-9f6b6306cb89"
   },
   "outputs": [
    {
     "data": {
      "text/html": [
       "<div>\n",
       "<style scoped>\n",
       "    .dataframe tbody tr th:only-of-type {\n",
       "        vertical-align: middle;\n",
       "    }\n",
       "\n",
       "    .dataframe tbody tr th {\n",
       "        vertical-align: top;\n",
       "    }\n",
       "\n",
       "    .dataframe thead th {\n",
       "        text-align: right;\n",
       "    }\n",
       "</style>\n",
       "<table border=\"1\" class=\"dataframe\">\n",
       "  <thead>\n",
       "    <tr style=\"text-align: right;\">\n",
       "      <th></th>\n",
       "      <th>Day</th>\n",
       "      <th>Date</th>\n",
       "      <th>CodedDay</th>\n",
       "      <th>Zone</th>\n",
       "      <th>Weather</th>\n",
       "      <th>Temperature</th>\n",
       "      <th>Traffic</th>\n",
       "    </tr>\n",
       "  </thead>\n",
       "  <tbody>\n",
       "    <tr>\n",
       "      <th>1429</th>\n",
       "      <td>Friday</td>\n",
       "      <td>9</td>\n",
       "      <td>5</td>\n",
       "      <td>135</td>\n",
       "      <td>18</td>\n",
       "      <td>25</td>\n",
       "      <td>4</td>\n",
       "    </tr>\n",
       "    <tr>\n",
       "      <th>1430</th>\n",
       "      <td>Friday</td>\n",
       "      <td>9</td>\n",
       "      <td>5</td>\n",
       "      <td>136</td>\n",
       "      <td>31</td>\n",
       "      <td>8</td>\n",
       "      <td>2</td>\n",
       "    </tr>\n",
       "    <tr>\n",
       "      <th>1431</th>\n",
       "      <td>Friday</td>\n",
       "      <td>9</td>\n",
       "      <td>5</td>\n",
       "      <td>137</td>\n",
       "      <td>13</td>\n",
       "      <td>11</td>\n",
       "      <td>4</td>\n",
       "    </tr>\n",
       "    <tr>\n",
       "      <th>1432</th>\n",
       "      <td>Friday</td>\n",
       "      <td>9</td>\n",
       "      <td>5</td>\n",
       "      <td>138</td>\n",
       "      <td>34</td>\n",
       "      <td>15</td>\n",
       "      <td>1</td>\n",
       "    </tr>\n",
       "    <tr>\n",
       "      <th>1433</th>\n",
       "      <td>Friday</td>\n",
       "      <td>9</td>\n",
       "      <td>5</td>\n",
       "      <td>139</td>\n",
       "      <td>5</td>\n",
       "      <td>43</td>\n",
       "      <td>4</td>\n",
       "    </tr>\n",
       "    <tr>\n",
       "      <th>1434</th>\n",
       "      <td>Friday</td>\n",
       "      <td>9</td>\n",
       "      <td>5</td>\n",
       "      <td>140</td>\n",
       "      <td>47</td>\n",
       "      <td>38</td>\n",
       "      <td>1</td>\n",
       "    </tr>\n",
       "    <tr>\n",
       "      <th>1435</th>\n",
       "      <td>Friday</td>\n",
       "      <td>9</td>\n",
       "      <td>5</td>\n",
       "      <td>141</td>\n",
       "      <td>15</td>\n",
       "      <td>8</td>\n",
       "      <td>4</td>\n",
       "    </tr>\n",
       "    <tr>\n",
       "      <th>1436</th>\n",
       "      <td>Friday</td>\n",
       "      <td>9</td>\n",
       "      <td>5</td>\n",
       "      <td>142</td>\n",
       "      <td>26</td>\n",
       "      <td>38</td>\n",
       "      <td>1</td>\n",
       "    </tr>\n",
       "    <tr>\n",
       "      <th>1437</th>\n",
       "      <td>Friday</td>\n",
       "      <td>9</td>\n",
       "      <td>5</td>\n",
       "      <td>143</td>\n",
       "      <td>16</td>\n",
       "      <td>34</td>\n",
       "      <td>3</td>\n",
       "    </tr>\n",
       "    <tr>\n",
       "      <th>1438</th>\n",
       "      <td>Friday</td>\n",
       "      <td>9</td>\n",
       "      <td>5</td>\n",
       "      <td>144</td>\n",
       "      <td>16</td>\n",
       "      <td>17</td>\n",
       "      <td>1</td>\n",
       "    </tr>\n",
       "  </tbody>\n",
       "</table>\n",
       "</div>"
      ],
      "text/plain": [
       "         Day  Date  CodedDay  Zone  Weather  Temperature  Traffic\n",
       "1429  Friday     9         5   135       18           25        4\n",
       "1430  Friday     9         5   136       31            8        2\n",
       "1431  Friday     9         5   137       13           11        4\n",
       "1432  Friday     9         5   138       34           15        1\n",
       "1433  Friday     9         5   139        5           43        4\n",
       "1434  Friday     9         5   140       47           38        1\n",
       "1435  Friday     9         5   141       15            8        4\n",
       "1436  Friday     9         5   142       26           38        1\n",
       "1437  Friday     9         5   143       16           34        3\n",
       "1438  Friday     9         5   144       16           17        1"
      ]
     },
     "execution_count": 6,
     "metadata": {},
     "output_type": "execute_result"
    }
   ],
   "source": [
    "dataset.tail(10)"
   ]
  },
  {
   "cell_type": "code",
   "execution_count": 7,
   "metadata": {
    "colab": {
     "base_uri": "https://localhost:8080/"
    },
    "id": "z3GBxgJSYyW5",
    "outputId": "7828d991-f8e8-4863-f7f7-97d483e64b9a"
   },
   "outputs": [
    {
     "name": "stdout",
     "output_type": "stream",
     "text": [
      "<class 'pandas.core.frame.DataFrame'>\n",
      "RangeIndex: 1439 entries, 0 to 1438\n",
      "Data columns (total 7 columns):\n",
      " #   Column       Non-Null Count  Dtype \n",
      "---  ------       --------------  ----- \n",
      " 0   Day          1439 non-null   object\n",
      " 1   Date         1439 non-null   int32 \n",
      " 2   CodedDay     1439 non-null   int64 \n",
      " 3   Zone         1439 non-null   int64 \n",
      " 4   Weather      1439 non-null   int64 \n",
      " 5   Temperature  1439 non-null   int64 \n",
      " 6   Traffic      1439 non-null   int64 \n",
      "dtypes: int32(1), int64(5), object(1)\n",
      "memory usage: 73.2+ KB\n"
     ]
    }
   ],
   "source": [
    "dataset.info()"
   ]
  },
  {
   "cell_type": "code",
   "execution_count": 8,
   "metadata": {
    "id": "NeONZVwJZEZK"
   },
   "outputs": [],
   "source": [
    "X = dataset.iloc[:, 2:6].values\n",
    "y = dataset.iloc[:, 6:7].values"
   ]
  },
  {
   "cell_type": "code",
   "execution_count": 9,
   "metadata": {
    "id": "lu3kTEiNZHJZ"
   },
   "outputs": [],
   "source": [
    "# Split data into training and testing sets\n",
    "X_train, X_test, y_train, y_test = train_test_split(X, y, test_size=0.2, random_state=42)\n",
    "\n",
    "# Scale the features (important for models like SVR, LinearRegression)\n",
    "scaler = StandardScaler()\n",
    "X_train_scaled = scaler.fit_transform(X_train)\n",
    "X_test_scaled = scaler.transform(X_test)"
   ]
  },
  {
   "cell_type": "code",
   "execution_count": null,
   "metadata": {
    "id": "bio5FqUAZI7q"
   },
   "outputs": [],
   "source": []
  },
  {
   "cell_type": "code",
   "execution_count": 10,
   "metadata": {},
   "outputs": [
    {
     "name": "stdout",
     "output_type": "stream",
     "text": [
      "Fitting 3 folds for each of 36 candidates, totalling 108 fits\n",
      "Fitting 3 folds for each of 27 candidates, totalling 81 fits\n",
      "LinearRegression -> Accuracy: -0.21%, MAE: 1.27, MSE: 2.13, RMSE: 1.46\n",
      "Lasso -> Accuracy: -0.28%, MAE: 1.27, MSE: 2.13, RMSE: 1.46\n",
      "Ridge -> Accuracy: -0.21%, MAE: 1.27, MSE: 2.13, RMSE: 1.46\n",
      "DecisionTree -> Accuracy: -106.70%, MAE: 1.72, MSE: 4.40, RMSE: 2.10\n",
      "RandomForest -> Accuracy: 0.16%, MAE: 1.28, MSE: 2.12, RMSE: 1.46\n",
      "XGBoost -> Accuracy: 0.09%, MAE: 1.27, MSE: 2.12, RMSE: 1.46\n",
      "SVR -> Accuracy: -2.72%, MAE: 1.29, MSE: 2.18, RMSE: 1.48\n"
     ]
    }
   ],
   "source": [
    "\n",
    "# Dictionary to hold model performance\n",
    "results = {}\n",
    "\n",
    "# Define models\n",
    "models = {\n",
    "    'LinearRegression': LinearRegression(),\n",
    "    'Lasso': Lasso(),\n",
    "    'Ridge': Ridge(),\n",
    "    'DecisionTree': DecisionTreeRegressor(),\n",
    "    'RandomForest': RandomForestRegressor(),\n",
    "    'XGBoost': XGBRegressor(),\n",
    "    'SVR': SVR()\n",
    "}\n",
    "\n",
    "# Hyperparameter tuning using GridSearchCV (for example, for Random Forest and XGBoost)\n",
    "param_grid_rf = {\n",
    "    'n_estimators': [50, 100, 200],\n",
    "    'max_depth': [10, 20, None],\n",
    "    'min_samples_split': [2, 5],\n",
    "    'min_samples_leaf': [1, 2]\n",
    "}\n",
    "\n",
    "param_grid_xgb = {\n",
    "    'learning_rate': [0.01, 0.1, 0.2],\n",
    "    'n_estimators': [50, 100, 200],\n",
    "    'max_depth': [3, 5, 7]\n",
    "}\n",
    "\n",
    "# Perform GridSearchCV for RandomForest\n",
    "grid_search_rf = GridSearchCV(estimator=RandomForestRegressor(), param_grid=param_grid_rf, cv=3, n_jobs=-1, verbose=2)\n",
    "grid_search_rf.fit(X_train_scaled, y_train)\n",
    "best_rf = grid_search_rf.best_estimator_\n",
    "\n",
    "# Perform GridSearchCV for XGBoost\n",
    "grid_search_xgb = GridSearchCV(estimator=XGBRegressor(), param_grid=param_grid_xgb, cv=3, n_jobs=-1, verbose=2)\n",
    "grid_search_xgb.fit(X_train_scaled, y_train)\n",
    "best_xgb = grid_search_xgb.best_estimator_\n",
    "\n",
    "# Evaluate models with cross-validation\n",
    "for name, model in models.items():\n",
    "    if name == 'RandomForest':\n",
    "        model = best_rf\n",
    "    elif name == 'XGBoost':\n",
    "        model = best_xgb\n",
    "\n",
    "    # Train the model\n",
    "    model.fit(X_train_scaled, y_train)\n",
    "\n",
    "    # Make predictions\n",
    "    y_pred = model.predict(X_test_scaled)\n",
    "\n",
    "    # Evaluate performance\n",
    "    mae = mean_absolute_error(y_test, y_pred)\n",
    "    mse = mean_squared_error(y_test, y_pred)\n",
    "    rmse = np.sqrt(mse)\n",
    "    accuracy = model.score(X_test_scaled, y_test)  # R^2 score\n",
    "\n",
    "    # Store the results\n",
    "    results[name] = {'MAE': mae, 'MSE': mse, 'RMSE': rmse, 'Accuracy': accuracy}\n",
    "\n",
    "# Show results\n",
    "for name, metrics in results.items():\n",
    "    print(f\"{name} -> Accuracy: {metrics['Accuracy']*100:.2f}%, MAE: {metrics['MAE']:.2f}, MSE: {metrics['MSE']:.2f}, RMSE: {metrics['RMSE']:.2f}\")"
   ]
  },
  {
   "cell_type": "code",
   "execution_count": 14,
   "metadata": {},
   "outputs": [
    {
     "name": "stdout",
     "output_type": "stream",
     "text": [
      "\n",
      "📊 Model Comparison:\n",
      "LinearRegression - MAE: 1.27 - MSE: 2.13 - RMSE: 1.46\n",
      "Lasso - MAE: 1.27 - MSE: 2.13 - RMSE: 1.46\n",
      "Ridge - MAE: 1.27 - MSE: 2.13 - RMSE: 1.46\n",
      "DecisionTree - MAE: 1.72 - MSE: 4.4 - RMSE: 2.1\n",
      "RandomForest - MAE: 1.28 - MSE: 2.12 - RMSE: 1.46\n",
      "XGBoost - MAE: 1.27 - MSE: 2.12 - RMSE: 1.46\n",
      "SVR - MAE: 1.29 - MSE: 2.18 - RMSE: 1.48\n",
      "\n",
      "✅ Best Model: Lasso with MAE: 1.27\n"
     ]
    }
   ],
   "source": [
    "# Show summary of all models with MAE, MSE, and RMSE\n",
    "print(\"\\n📊 Model Comparison:\")\n",
    "for model_name, metrics in results.items():\n",
    "    print(f\"{model_name} - MAE: {round(metrics['MAE'], 2)} - MSE: {round(metrics['MSE'], 2)} - RMSE: {round(metrics['RMSE'], 2)}\")\n",
    "\n",
    "# Find the best model based on MAE (you can use other metrics like MSE or RMSE depending on your preference)\n",
    "best_model_name = min(results, key=lambda model: results[model]['MAE'])\n",
    "best_accuracy = 100 - results[best_model_name]['MAE']  # Optional: if you want to derive an accuracy-like measure\n",
    "best_model = models[best_model_name] if best_model_name not in ['RandomForest', 'XGBoost'] else globals()[f'best_{best_model_name.lower()}']\n",
    "\n",
    "print(f\"\\n✅ Best Model: {best_model_name} with MAE: {round(results[best_model_name]['MAE'], 2)}\")\n",
    "\n",
    "# Save best model\n",
    "import pickle\n",
    "with open(\"best_traffic_model.pkl\", \"wb\") as f:\n",
    "    pickle.dump(best_model, f)\n"
   ]
  },
  {
   "cell_type": "code",
   "execution_count": null,
   "metadata": {},
   "outputs": [],
   "source": []
  }
 ],
 "metadata": {
  "colab": {
   "collapsed_sections": [],
   "name": "Traffic-Prediction.ipynb",
   "provenance": []
  },
  "kernelspec": {
   "display_name": "Python 3 (ipykernel)",
   "language": "python",
   "name": "python3"
  },
  "language_info": {
   "codemirror_mode": {
    "name": "ipython",
    "version": 3
   },
   "file_extension": ".py",
   "mimetype": "text/x-python",
   "name": "python",
   "nbconvert_exporter": "python",
   "pygments_lexer": "ipython3",
   "version": "3.9.0"
  }
 },
 "nbformat": 4,
 "nbformat_minor": 4
}
